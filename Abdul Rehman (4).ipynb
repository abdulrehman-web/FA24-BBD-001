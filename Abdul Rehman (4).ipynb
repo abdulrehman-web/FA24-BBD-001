{
 "cells": [
  {
   "cell_type": "code",
   "execution_count": null,
   "id": "818c134d-6ede-4025-8986-69758ef98130",
   "metadata": {},
   "outputs": [],
   "source": [
    "#Name: Abdul Rehman\n",
    "# Reg No: FA24-BBD-001\n",
    "#Assignment No 1"
   ]
  },
  {
   "cell_type": "code",
   "execution_count": 2,
   "id": "2df03ada-a3bf-4d82-8733-4a4137fc6d9b",
   "metadata": {},
   "outputs": [
    {
     "name": "stdout",
     "output_type": "stream",
     "text": [
      "1\n",
      "2\n",
      "3\n",
      "4\n",
      "5\n",
      "6\n",
      "7\n",
      "8\n",
      "9\n",
      "10\n"
     ]
    }
   ],
   "source": [
    "#Question.no:1\n",
    "num = 1\n",
    "while num <= 10:\n",
    "    print(num)\n",
    "    num +=1 "
   ]
  },
  {
   "cell_type": "code",
   "execution_count": null,
   "id": "f8e6f035-55c2-4d68-af3b-40dcda1ef883",
   "metadata": {},
   "outputs": [],
   "source": []
  },
  {
   "cell_type": "code",
   "execution_count": 4,
   "id": "ee8bb26d-26c2-409c-979b-aa115b05090b",
   "metadata": {},
   "outputs": [
    {
     "name": "stdout",
     "output_type": "stream",
     "text": [
      "2\n",
      "4\n",
      "6\n",
      "8\n",
      "10\n",
      "12\n",
      "14\n",
      "16\n",
      "18\n",
      "20\n"
     ]
    }
   ],
   "source": [
    "#Question.no:2\n",
    "num = 1\n",
    "while num <= 20:\n",
    "    if num % 2==0:\n",
    "        print(num)\n",
    "    num += 1"
   ]
  },
  {
   "cell_type": "code",
   "execution_count": null,
   "id": "0157dd67-08ba-419c-8ed8-d29d70172d3a",
   "metadata": {},
   "outputs": [],
   "source": []
  },
  {
   "cell_type": "code",
   "execution_count": 6,
   "id": "ecb4907e-948e-42d3-9c70-d93698128638",
   "metadata": {},
   "outputs": [
    {
     "name": "stdout",
     "output_type": "stream",
     "text": [
      "1 2 3 4 5 6 7 8 9 10 \n",
      "The sum of the first 10 natural numbers is: 55\n"
     ]
    }
   ],
   "source": [
    "#Question.no:3\n",
    "num = 1\n",
    "sum = 0\n",
    "while num <= 10:\n",
    "    print(num,end=' ')\n",
    "    sum += num\n",
    "    num += 1\n",
    "print('\\nThe sum of the first 10 natural numbers is:', sum)"
   ]
  },
  {
   "cell_type": "code",
   "execution_count": null,
   "id": "f2e1e72b-acd9-440e-a9b7-cf156d6cda11",
   "metadata": {},
   "outputs": [],
   "source": []
  },
  {
   "cell_type": "code",
   "execution_count": 11,
   "id": "e88a3b06-5634-473d-b762-72293e17cb74",
   "metadata": {},
   "outputs": [
    {
     "name": "stdin",
     "output_type": "stream",
     "text": [
      "Enter a number (negative number to stop):  1\n",
      "Enter a number (negative number to stop):  3\n",
      "Enter a number (negative number to stop):  2\n",
      "Enter a number (negative number to stop):  -3\n"
     ]
    },
    {
     "name": "stdout",
     "output_type": "stream",
     "text": [
      "Total sum of entered numbers: 6\n"
     ]
    }
   ],
   "source": [
    "#Question.no:4\n",
    "\n",
    "total_sum = 0\n",
    "while True:\n",
    "    user_input = int(input(\"Enter a number (negative number to stop): \"))\n",
    "    if user_input < 0:\n",
    "        break\n",
    "    total_sum += user_input\n",
    "print(\"Total sum of entered numbers:\", total_sum)"
   ]
  },
  {
   "cell_type": "code",
   "execution_count": null,
   "id": "82d36d97-85ef-47cc-a42c-09f703954e7f",
   "metadata": {},
   "outputs": [],
   "source": []
  },
  {
   "cell_type": "code",
   "execution_count": 13,
   "id": "aacd12cf-8528-4d8e-92d0-4e8581d6e37b",
   "metadata": {},
   "outputs": [
    {
     "name": "stdin",
     "output_type": "stream",
     "text": [
      "Guess a number between 1 and 100:  55\n"
     ]
    },
    {
     "name": "stdout",
     "output_type": "stream",
     "text": [
      "Too high! Try again.\n"
     ]
    },
    {
     "name": "stdin",
     "output_type": "stream",
     "text": [
      "Guess a number between 1 and 100:  22\n"
     ]
    },
    {
     "name": "stdout",
     "output_type": "stream",
     "text": [
      "Too high! Try again.\n"
     ]
    },
    {
     "name": "stdin",
     "output_type": "stream",
     "text": [
      "Guess a number between 1 and 100:  3\n"
     ]
    },
    {
     "name": "stdout",
     "output_type": "stream",
     "text": [
      "Too low! Try again.\n"
     ]
    },
    {
     "name": "stdin",
     "output_type": "stream",
     "text": [
      "Guess a number between 1 and 100:  12\n"
     ]
    },
    {
     "name": "stdout",
     "output_type": "stream",
     "text": [
      "Congratulations! You guessed the correct number.\n"
     ]
    }
   ],
   "source": [
    "#Question,no:5\n",
    "\n",
    "number = 12\n",
    "while True:\n",
    "    guess = int(input(\"Guess a number between 1 and 100: \"))\n",
    "    if guess < number:\n",
    "        print(\"Too low! Try again.\")\n",
    "    elif guess > number:\n",
    "        print(\"Too high! Try again.\")\n",
    "    else:\n",
    "        print(\"Congratulations! You guessed the correct number.\")\n",
    "        break"
   ]
  },
  {
   "cell_type": "code",
   "execution_count": null,
   "id": "baf29e77-71a8-4732-9870-7ba6e2f47dfd",
   "metadata": {},
   "outputs": [],
   "source": []
  },
  {
   "cell_type": "code",
   "execution_count": 17,
   "id": "a16b940f-d544-4c53-abbd-231ed426e193",
   "metadata": {},
   "outputs": [
    {
     "name": "stdin",
     "output_type": "stream",
     "text": [
      "Enter a positive integer:  5\n"
     ]
    },
    {
     "name": "stdout",
     "output_type": "stream",
     "text": [
      "Factorial: 120\n"
     ]
    }
   ],
   "source": [
    "#Question.no:6\n",
    "\n",
    "\n",
    "num = int(input('Enter a positive integer: '))\n",
    "factorial = 1 \n",
    "x = 1\n",
    "while x <= num: \n",
    "    factorial *= x\n",
    "    x += 1\n",
    "print('Factorial:', factorial)"
   ]
  },
  {
   "cell_type": "code",
   "execution_count": null,
   "id": "a5a142c9-aa44-45ac-8a72-aabb9f6b9602",
   "metadata": {},
   "outputs": [],
   "source": []
  },
  {
   "cell_type": "code",
   "execution_count": 19,
   "id": "f400d219-0de3-40d7-b6a7-83b4b4a0cad1",
   "metadata": {},
   "outputs": [
    {
     "name": "stdin",
     "output_type": "stream",
     "text": [
      "Enter a number or('done' to calculate average):  10\n",
      "Enter a number or('done' to calculate average):  5\n",
      "Enter a number or('done' to calculate average):  done\n"
     ]
    },
    {
     "name": "stdout",
     "output_type": "stream",
     "text": [
      "Average: 7.5\n"
     ]
    }
   ],
   "source": [
    "#Question.no:7\n",
    "total = 0\n",
    "count = 0\n",
    "while True:\n",
    "    num = input(\"Enter a number or('done' to calculate average): \")\n",
    "    if num.lower()== \"done\":\n",
    "        break\n",
    "    total += float(num)\n",
    "    count += 1\n",
    "print(\"Average:\", total / count )"
   ]
  },
  {
   "cell_type": "code",
   "execution_count": 21,
   "id": "b703b6ec-24ab-45fd-a4f5-1d9a0bdf1781",
   "metadata": {},
   "outputs": [
    {
     "name": "stdin",
     "output_type": "stream",
     "text": [
      "Enter the maximum number for the Fibonacci sequence:  8\n"
     ]
    },
    {
     "name": "stdout",
     "output_type": "stream",
     "text": [
      "Fibonacci sequence:\n",
      "0 1 1 2 3 5 8 \n"
     ]
    }
   ],
   "source": [
    "#Question 8\n",
    "n = int(input(\"Enter the maximum number for the Fibonacci sequence: \"))\n",
    "a, b = 0, 1\n",
    "\n",
    "print(\"Fibonacci sequence:\")\n",
    "while a <= n:\n",
    "    print(a, end=\" \")\n",
    "    a, b = b, a + b\n",
    "print()"
   ]
  },
  {
   "cell_type": "code",
   "execution_count": null,
   "id": "eaaa69ff-f9c5-4293-a227-beb95853d0d8",
   "metadata": {},
   "outputs": [],
   "source": []
  },
  {
   "cell_type": "code",
   "execution_count": null,
   "id": "2ba2a8a2-3c0f-4b3b-a876-f36badde3a9a",
   "metadata": {},
   "outputs": [],
   "source": []
  },
  {
   "cell_type": "code",
   "execution_count": null,
   "id": "8e877af1-24be-4ea2-8cdc-73469da93fc6",
   "metadata": {},
   "outputs": [],
   "source": []
  },
  {
   "cell_type": "code",
   "execution_count": null,
   "id": "c51dd35f-ce16-4c4d-ab4c-1083b00c64b1",
   "metadata": {},
   "outputs": [],
   "source": []
  },
  {
   "cell_type": "code",
   "execution_count": null,
   "id": "c8dbc9f9-f9a8-4d99-9556-71ddef1fc899",
   "metadata": {},
   "outputs": [],
   "source": []
  },
  {
   "cell_type": "code",
   "execution_count": null,
   "id": "8d775d67-57b7-4c61-b076-eee51c4f5d49",
   "metadata": {},
   "outputs": [],
   "source": []
  },
  {
   "cell_type": "code",
   "execution_count": null,
   "id": "5fee29e1-f3ee-483b-b3e3-d748d869cc06",
   "metadata": {},
   "outputs": [],
   "source": []
  },
  {
   "cell_type": "code",
   "execution_count": null,
   "id": "cd953e7a-ace2-480d-bc89-546f34ee236c",
   "metadata": {},
   "outputs": [],
   "source": []
  },
  {
   "cell_type": "code",
   "execution_count": null,
   "id": "2438e019-6e91-4234-a51b-cb684e69dc60",
   "metadata": {},
   "outputs": [],
   "source": []
  },
  {
   "cell_type": "code",
   "execution_count": null,
   "id": "02886e39-98e0-41b7-a4f6-3647723be000",
   "metadata": {},
   "outputs": [],
   "source": []
  },
  {
   "cell_type": "code",
   "execution_count": null,
   "id": "646e4563-63eb-4dcf-a300-f52944025842",
   "metadata": {},
   "outputs": [],
   "source": []
  },
  {
   "cell_type": "code",
   "execution_count": null,
   "id": "0112a95f-579d-4af8-9a15-e5e9b69f8905",
   "metadata": {},
   "outputs": [],
   "source": []
  }
 ],
 "metadata": {
  "kernelspec": {
   "display_name": "Python 3 (ipykernel)",
   "language": "python",
   "name": "python3"
  },
  "language_info": {
   "codemirror_mode": {
    "name": "ipython",
    "version": 3
   },
   "file_extension": ".py",
   "mimetype": "text/x-python",
   "name": "python",
   "nbconvert_exporter": "python",
   "pygments_lexer": "ipython3",
   "version": "3.12.7"
  }
 },
 "nbformat": 4,
 "nbformat_minor": 5
}
